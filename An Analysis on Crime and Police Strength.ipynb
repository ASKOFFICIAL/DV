{
 "cells": [
  {
   "cell_type": "markdown",
   "id": "1998f55f",
   "metadata": {},
   "source": [
    "### Importing Packages"
   ]
  },
  {
   "cell_type": "code",
   "execution_count": null,
   "id": "d1292de9",
   "metadata": {},
   "outputs": [],
   "source": [
    "import numpy as np\n",
    "import pandas as pd\n",
    "import dash\n",
    "from dash import dcc\n",
    "from dash import html\n",
    "from dash.dependencies import Input, Output\n",
    "import plotly.express as px\n",
    "import plotly.io as pio\n",
    "import plotly.graph_objects as go\n",
    "from plotly.subplots import make_subplots"
   ]
  },
  {
   "cell_type": "markdown",
   "id": "c76a7df6",
   "metadata": {},
   "source": [
    "### Importing and reading datasets"
   ]
  },
  {
   "cell_type": "code",
   "execution_count": null,
   "id": "6ff05c4b",
   "metadata": {},
   "outputs": [],
   "source": [
    "Crimes_Against_ST = pd.read_csv(\"Crimes/02_District_wise_crimes_committed_against_ST_2001_2012.csv\")\n",
    "Crimes_Against_SC = pd.read_csv(\"Crimes/02_01_District_wise_crimes_committed_against_SC_2001_2012.csv\")\n",
    "Crimes_Against_IPC = pd.read_csv(\"Crimes/01_District_wise_crimes_committed_IPC_2001_2012.csv\")\n",
    "Crimes_Against_Children = pd.read_csv(\"Crimes/03_District_wise_crimes_committed_against_children_2001_2012.csv\")\n",
    "Crimes_Against_Women = pd.read_csv(\"Crimes/42_Cases_under_crime_against_women.csv\")\n",
    "Police_Strength = pd.read_csv(\"12_Police_strength_actual_and_sanctioned.csv\")"
   ]
  },
  {
   "cell_type": "markdown",
   "id": "0613dfae",
   "metadata": {},
   "source": [
    "## Data Preprocessing"
   ]
  },
  {
   "cell_type": "code",
   "execution_count": null,
   "id": "e9b53a6f",
   "metadata": {},
   "outputs": [],
   "source": [
    "Crimes_Against_ST.head()"
   ]
  },
  {
   "cell_type": "code",
   "execution_count": null,
   "id": "49a54454",
   "metadata": {},
   "outputs": [],
   "source": [
    "Crimes_Against_SC.head()"
   ]
  },
  {
   "cell_type": "code",
   "execution_count": null,
   "id": "4f6f9382",
   "metadata": {},
   "outputs": [],
   "source": [
    "Crimes_Against_IPC.head()"
   ]
  },
  {
   "cell_type": "code",
   "execution_count": null,
   "id": "b52f2b31",
   "metadata": {},
   "outputs": [],
   "source": [
    "Crimes_Against_Women.head()"
   ]
  },
  {
   "cell_type": "code",
   "execution_count": null,
   "id": "60be9c7a",
   "metadata": {},
   "outputs": [],
   "source": [
    "Crimes_Against_Children.head()"
   ]
  },
  {
   "cell_type": "code",
   "execution_count": null,
   "id": "9bd3ab70",
   "metadata": {
    "scrolled": true
   },
   "outputs": [],
   "source": [
    "Police_Strength.head()"
   ]
  },
  {
   "cell_type": "markdown",
   "id": "3abff78e",
   "metadata": {},
   "source": [
    "### Crimes Against ST"
   ]
  },
  {
   "cell_type": "code",
   "execution_count": null,
   "id": "4b75c200",
   "metadata": {},
   "outputs": [],
   "source": [
    "Crimes_Against_ST.drop(Crimes_Against_ST[Crimes_Against_ST.DISTRICT!=\"TOTAL\"].index, inplace=True)"
   ]
  },
  {
   "cell_type": "code",
   "execution_count": null,
   "id": "5d0c2539",
   "metadata": {},
   "outputs": [],
   "source": [
    "Crimes_Against_ST = Crimes_Against_ST.reset_index(drop=True)"
   ]
  },
  {
   "cell_type": "code",
   "execution_count": null,
   "id": "d824fec7",
   "metadata": {},
   "outputs": [],
   "source": [
    "Crimes_Against_ST.drop(['DISTRICT'], axis=1, inplace=True)"
   ]
  },
  {
   "cell_type": "code",
   "execution_count": null,
   "id": "4e416c07",
   "metadata": {},
   "outputs": [],
   "source": [
    "Crimes_Against_ST.drop(Crimes_Against_ST[Crimes_Against_ST.Year==2011].index, inplace=True)\n",
    "Crimes_Against_ST.drop(Crimes_Against_ST[Crimes_Against_ST.Year==2012].index, inplace=True)"
   ]
  },
  {
   "cell_type": "code",
   "execution_count": null,
   "id": "c1064f45",
   "metadata": {},
   "outputs": [],
   "source": [
    "Crimes_Against_ST = Crimes_Against_ST.apply(lambda x: x.astype(str).str.upper())\n",
    "Crimes_Against_ST.columns = map(str.upper, Crimes_Against_ST.columns)"
   ]
  },
  {
   "cell_type": "code",
   "execution_count": null,
   "id": "91bb7a87",
   "metadata": {},
   "outputs": [],
   "source": [
    "Crimes_Against_ST.to_csv(\"Test_CSVs/Crimes_Against_ST_Test.csv\")"
   ]
  },
  {
   "cell_type": "markdown",
   "id": "f43f9c4d",
   "metadata": {},
   "source": [
    "### Crimes Against SC"
   ]
  },
  {
   "cell_type": "code",
   "execution_count": null,
   "id": "6237ed1b",
   "metadata": {},
   "outputs": [],
   "source": [
    "Crimes_Against_SC.drop(Crimes_Against_SC[Crimes_Against_SC.DISTRICT != \"TOTAL\"].index, inplace=True)"
   ]
  },
  {
   "cell_type": "code",
   "execution_count": null,
   "id": "72c0147f",
   "metadata": {},
   "outputs": [],
   "source": [
    "Crimes_Against_SC = Crimes_Against_SC.reset_index(drop=True)"
   ]
  },
  {
   "cell_type": "code",
   "execution_count": null,
   "id": "a2d5031a",
   "metadata": {},
   "outputs": [],
   "source": [
    "Crimes_Against_SC.drop(['DISTRICT'], axis=1, inplace=True)"
   ]
  },
  {
   "cell_type": "code",
   "execution_count": null,
   "id": "195abe5d",
   "metadata": {},
   "outputs": [],
   "source": [
    "Crimes_Against_SC.drop(Crimes_Against_SC[Crimes_Against_SC.Year==2011].index, inplace=True)\n",
    "Crimes_Against_SC.drop(Crimes_Against_SC[Crimes_Against_SC.Year==2012].index, inplace=True)"
   ]
  },
  {
   "cell_type": "code",
   "execution_count": null,
   "id": "d135825d",
   "metadata": {},
   "outputs": [],
   "source": [
    "Crimes_Against_SC = Crimes_Against_SC.apply(lambda x: x.astype(str).str.upper())\n",
    "Crimes_Against_SC.columns = map(str.upper, Crimes_Against_SC.columns)"
   ]
  },
  {
   "cell_type": "code",
   "execution_count": null,
   "id": "ac086d0a",
   "metadata": {},
   "outputs": [],
   "source": [
    "Crimes_Against_SC.to_csv(\"Test_CSVs/Crimes_Against_SC_Test.csv\")"
   ]
  },
  {
   "cell_type": "markdown",
   "id": "d6fd9976",
   "metadata": {},
   "source": [
    "### Crimes Against Children"
   ]
  },
  {
   "cell_type": "code",
   "execution_count": null,
   "id": "e0eb9c3f",
   "metadata": {},
   "outputs": [],
   "source": [
    "Crimes_Against_Children.drop(Crimes_Against_Children[Crimes_Against_Children.DISTRICT!=\"TOTAL\"].index, inplace=True)"
   ]
  },
  {
   "cell_type": "code",
   "execution_count": null,
   "id": "1139bb77",
   "metadata": {},
   "outputs": [],
   "source": [
    "Crimes_Against_Children.reset_index(drop=True, inplace=True)\n",
    "Crimes_Against_Children.drop(['DISTRICT'], axis=1, inplace=True)"
   ]
  },
  {
   "cell_type": "code",
   "execution_count": null,
   "id": "2647dd59",
   "metadata": {},
   "outputs": [],
   "source": [
    "Crimes_Against_Children.drop(Crimes_Against_Children[Crimes_Against_Children.Year==2011].index, inplace=True)\n",
    "Crimes_Against_Children.drop(Crimes_Against_Children[Crimes_Against_Children.Year==2012].index, inplace=True)"
   ]
  },
  {
   "cell_type": "code",
   "execution_count": null,
   "id": "2fcf3be5",
   "metadata": {},
   "outputs": [],
   "source": [
    "Crimes_Against_Children = Crimes_Against_Children.apply(lambda x: x.astype(str).str.upper())\n",
    "Crimes_Against_Children.columns = map(str.upper, Crimes_Against_Children.columns)"
   ]
  },
  {
   "cell_type": "code",
   "execution_count": null,
   "id": "9cdfd92f",
   "metadata": {},
   "outputs": [],
   "source": [
    "Crimes_Against_Children.to_csv(\"Test_CSVs/Crimes_Against_Children_Test.csv\")"
   ]
  },
  {
   "cell_type": "markdown",
   "id": "7d9ce0c0",
   "metadata": {},
   "source": [
    "### Crimes Against Women"
   ]
  },
  {
   "cell_type": "code",
   "execution_count": null,
   "id": "a110a3c9",
   "metadata": {},
   "outputs": [],
   "source": [
    "Crimes_Against_Women = Crimes_Against_Women[['Area_Name', 'Year', 'Group_Name', 'Total_Cases_for_Trial']]"
   ]
  },
  {
   "cell_type": "code",
   "execution_count": null,
   "id": "6eab7358",
   "metadata": {},
   "outputs": [],
   "source": [
    "Crimes_Against_Women = Crimes_Against_Women.apply(lambda x: x.astype(str).str.upper())\n",
    "Crimes_Against_Women.columns = map(str.upper, Crimes_Against_Women.columns)"
   ]
  },
  {
   "cell_type": "code",
   "execution_count": null,
   "id": "b16b8b11",
   "metadata": {},
   "outputs": [],
   "source": [
    "Crimes_Against_Women.to_csv(\"Test_CSVs/Crimes_Against_Women_Test.csv\")"
   ]
  },
  {
   "cell_type": "markdown",
   "id": "3b0118e7",
   "metadata": {},
   "source": [
    "### Police Strength"
   ]
  },
  {
   "cell_type": "code",
   "execution_count": null,
   "id": "1c03579f",
   "metadata": {},
   "outputs": [],
   "source": [
    "Police_Strength = Police_Strength[['Area_Name','Year','Group_Name','Rank_All_Ranks_Total']]\n",
    "Police_Strength = Police_Strength[Police_Strength.Group_Name.str.contains(\"Total\")]\n",
    "Police_Strength = Police_Strength[~Police_Strength.Group_Name.str.contains(\"Women\")]\n",
    "Police_Strength[\"Area_Name\"] = Police_Strength[\"Area_Name\"].str.upper()\n",
    "Police_Strength = Police_Strength[~Police_Strength.Group_Name.str.contains(\"Sanctioned\")]"
   ]
  },
  {
   "cell_type": "code",
   "execution_count": null,
   "id": "536ca914",
   "metadata": {},
   "outputs": [],
   "source": [
    "Police_Strength=Police_Strength.apply(lambda x: x.astype(str).str.upper())\n",
    "\n",
    "for i in Police_Strength['Area_Name']:\n",
    "    if i == 'DADRA & NAGAR HAVELI':\n",
    "        Police_Strength.replace(i, 'D & N HAVELI', inplace=True)\n",
    "    elif i == 'ANDAMAN & NICOBAR ISLANDS':\n",
    "        Police_Strength.replace(i, 'A & N ISLANDS', inplace=True)\n",
    "Police_Strength.columns = map(str.upper, Police_Strength.columns)\n",
    "\n",
    "Police_Strength.reset_index(drop=True, inplace=True)"
   ]
  },
  {
   "cell_type": "code",
   "execution_count": null,
   "id": "2a86b7de",
   "metadata": {},
   "outputs": [],
   "source": [
    "Police_Strength.to_csv(\"Test_CSVs/Police_Strength_Test.csv\")"
   ]
  },
  {
   "cell_type": "markdown",
   "id": "7b953242",
   "metadata": {},
   "source": [
    "### Crimes Against IPC"
   ]
  },
  {
   "cell_type": "code",
   "execution_count": null,
   "id": "67c8ef6e",
   "metadata": {},
   "outputs": [],
   "source": [
    "Crimes_Against_IPC.drop(Crimes_Against_IPC[Crimes_Against_IPC.DISTRICT != \"TOTAL\"].index, inplace=True)"
   ]
  },
  {
   "cell_type": "code",
   "execution_count": null,
   "id": "40347a92",
   "metadata": {},
   "outputs": [],
   "source": [
    "Crimes_Against_IPC.reset_index(drop=True, inplace=True)\n",
    "Crimes_Against_IPC.rename(columns = {\"STATE/UT\": \"Area_Name\", \"TOTAL IPC CRIMES\": \"TOTAL\"}, inplace=True)\n",
    "Crimes_Against_IPC.drop(['DISTRICT'], axis=1, inplace=True)"
   ]
  },
  {
   "cell_type": "code",
   "execution_count": null,
   "id": "ada6cea4",
   "metadata": {},
   "outputs": [],
   "source": [
    "Crimes_Against_IPC.drop(Crimes_Against_IPC[Crimes_Against_IPC.YEAR==2011].index, inplace=True)\n",
    "Crimes_Against_IPC.drop(Crimes_Against_IPC[Crimes_Against_IPC.YEAR==2012].index, inplace=True)"
   ]
  },
  {
   "cell_type": "code",
   "execution_count": null,
   "id": "eb3a815f",
   "metadata": {},
   "outputs": [],
   "source": [
    "Crimes_Against_IPC = Crimes_Against_IPC.apply(lambda x: x.astype(str).str.upper())\n",
    "Crimes_Against_IPC.columns = map(str.upper, Crimes_Against_IPC.columns)\n",
    "Crimes_Against_IPC.reset_index(drop=True, inplace=True)"
   ]
  },
  {
   "cell_type": "code",
   "execution_count": null,
   "id": "30ce6cd7",
   "metadata": {},
   "outputs": [],
   "source": [
    "Crimes_Against_IPC.to_csv(\"Test_CSVs/Crimes_Against_IPC_Test.csv\")"
   ]
  },
  {
   "cell_type": "markdown",
   "id": "8d6a77ca",
   "metadata": {},
   "source": [
    "## Creating the Visualization"
   ]
  },
  {
   "cell_type": "markdown",
   "id": "8edca3c4",
   "metadata": {},
   "source": [
    "### Bar-line Graph of Area+Crime vs Police Strength from 2001-2010"
   ]
  },
  {
   "cell_type": "code",
   "execution_count": null,
   "id": "366c99b3",
   "metadata": {},
   "outputs": [],
   "source": [
    "x = Crimes_Against_IPC.AREA_NAME.unique()\n",
    "options = []\n",
    "for i in x:\n",
    "    options.append({'label': i, 'value': i})\n",
    "\n",
    "crimeOptions=[]\n",
    "for i in Crimes_Against_IPC.columns[2:]:\n",
    "    crimeOptions.append({'label': i, 'value': i})"
   ]
  },
  {
   "cell_type": "markdown",
   "id": "bc821569",
   "metadata": {},
   "source": [
    "### Scatterplot of Police Strength vs Crime Rate"
   ]
  },
  {
   "cell_type": "code",
   "execution_count": null,
   "id": "e553d89a",
   "metadata": {},
   "outputs": [],
   "source": [
    "caipc = Crimes_Against_IPC\n",
    "caipc.sort_values(by=['AREA_NAME', 'YEAR'], inplace=True)\n",
    "caipc.reset_index(drop=True, inplace=True)\n",
    "caipc.head()"
   ]
  },
  {
   "cell_type": "code",
   "execution_count": null,
   "id": "b7ed556a",
   "metadata": {},
   "outputs": [],
   "source": [
    "ps = Police_Strength\n",
    "ps.sort_values(by=['AREA_NAME', 'YEAR'], inplace=True)\n",
    "ps.reset_index(drop=True, inplace=True)\n",
    "ps.head()"
   ]
  },
  {
   "cell_type": "code",
   "execution_count": null,
   "id": "311878cf",
   "metadata": {},
   "outputs": [],
   "source": [
    "df2 = pd.merge(caipc, ps, on=[\"AREA_NAME\", \"YEAR\"])\n",
    "df2.head()"
   ]
  },
  {
   "cell_type": "code",
   "execution_count": null,
   "id": "5e6e5932",
   "metadata": {},
   "outputs": [],
   "source": [
    "app = dash.Dash()\n",
    "\n",
    "app.layout = html.Div([\n",
    "    html.Div([\n",
    "        dcc.Dropdown(\n",
    "            id='state',\n",
    "            options=options,\n",
    "            placeholder=\"Select a state\",\n",
    "            style={'margin-bottom': '20px'}\n",
    "        ),\n",
    "        \n",
    "        dcc.Dropdown(\n",
    "            id='crime',\n",
    "            options=crimeOptions,\n",
    "            placeholder=\"Select a Crime\"\n",
    "        ),\n",
    "    ], style={'margin': '20px'}),\n",
    "\n",
    "    html.Div([\n",
    "        dcc.Dropdown(\n",
    "            id='year',\n",
    "            options=[\n",
    "                {'label':'2001', 'value':'2001'},\n",
    "                {'label':'2002', 'value':'2002'},\n",
    "                {'label':'2003', 'value':'2003'},\n",
    "                {'label':'2004', 'value':'2004'},\n",
    "                {'label':'2005', 'value':'2005'},\n",
    "                {'label':'2006', 'value':'2006'},\n",
    "                {'label':'2007', 'value':'2007'},\n",
    "                {'label':'2008', 'value':'2008'},\n",
    "                {'label':'2009', 'value':'2009'},\n",
    "                {'label':'2010', 'value':'2010'}, \n",
    "            ],\n",
    "            placeholder=\"Select a year\",\n",
    "            style={'margin-bottom': '20px'}\n",
    "        ), \n",
    "    ], style={'margin': '20px'}),\n",
    "\n",
    "    html.Div([\n",
    "        dcc.Graph(id=\"Graph\")\n",
    "    ], style={'margin': '20px'}),\n",
    "\n",
    "    html.Div([\n",
    "        dcc.Graph(id=\"Graph2\")\n",
    "    ], style={'margin': '20px'}),\n",
    "\n",
    "    html.Div([\n",
    "        dcc.Graph(id=\"pie_chart\")\n",
    "    ], style={'margin': '20px'}),\n",
    "])\n",
    "\n",
    "@app.callback(\n",
    "    Output('Graph', 'figure'),\n",
    "    Output('Graph2', 'figure'),\n",
    "    Output('pie_chart', 'figure'), \n",
    "    Input('state', 'value'),\n",
    "    Input('crime', 'value'),\n",
    "    Input('year', 'value'),\n",
    "    )\n",
    "\n",
    "def update_figure(value, crimeValue, yearValue):\n",
    "    # Bar-line Graph of Area+Crime vs Police Strength from 2001-2010\n",
    "    fig = make_subplots(specs=[[{\"secondary_y\": True}]])\n",
    "    fig.add_trace(\n",
    "        go.Scatter(\n",
    "            x=Police_Strength[Police_Strength.AREA_NAME.str.contains(value)].YEAR,\n",
    "            y=Police_Strength[Police_Strength.AREA_NAME.str.contains(value)].RANK_ALL_RANKS_TOTAL,\n",
    "            name=\"Police Strength\",\n",
    "        ),\n",
    "        secondary_y=True,\n",
    "    ) \n",
    "\n",
    "    fig.add_trace(\n",
    "        go.Bar(\n",
    "            x=Crimes_Against_IPC[Crimes_Against_IPC.AREA_NAME.str.contains(value)].YEAR,\n",
    "            y=Crimes_Against_IPC[Crimes_Against_IPC.AREA_NAME.str.contains(value)][crimeValue],\n",
    "            name=crimeValue+\" Cases\"\n",
    "        ),\n",
    "        secondary_y=False,\n",
    "    )\n",
    "\n",
    "    fig.update_layout(title_text = \"Number of \" + crimeValue + \" cases Against IPC vs Police Strength\")\n",
    "    fig.update_xaxes(title_text=\"Year\", dtick=1)\n",
    "    fig.update_yaxes(title_text=\"Cases\", secondary_y=False)\n",
    "    fig.update_yaxes(title_text=\"Police Strength\", secondary_y=True)\n",
    "    fig.update_layout(autotypenumbers='convert types') \n",
    "\n",
    "\n",
    "    # Bubble Chart of Police Strength vs Crime Rate\n",
    "    df2 = pd.merge(caipc, ps, on=['AREA_NAME', 'YEAR'])\n",
    "    df2 = df2[['AREA_NAME', 'YEAR', crimeValue, 'RANK_ALL_RANKS_TOTAL']]\n",
    "    df2.rename(columns={crimeValue: 'CRIME', 'RANK_ALL_RANKS_TOTAL': 'STRENGTH'}, inplace=True)\n",
    "\n",
    "    df2['CRIME'] = pd.to_numeric(df2['CRIME'], errors='coerce')\n",
    "    df2 = df2.dropna(subset=['CRIME'])\n",
    "    df2['CRIME'] = df2['CRIME'].astype(int)\n",
    "\n",
    "    fig2 = px.scatter(df2, x=\"STRENGTH\", y=\"CRIME\", color=\"AREA_NAME\",\n",
    "            animation_frame=\"YEAR\", animation_group=\"AREA_NAME\",\n",
    "            size='CRIME', hover_name=\"AREA_NAME\",\n",
    "            size_max=50, height=800\n",
    "            )\n",
    "\n",
    "    fig2.update_layout(autotypenumbers='convert types', title_text=\"Police Strength vs Crime Rate\", transition={\"duration\": 500})\n",
    "    fig2.update_xaxes(title_text=\"Police Strength\")\n",
    "    fig2.update_yaxes(title_text=\"Total Cases\")\n",
    "    #Pie chart of Different types of Crimes \n",
    "    caipc2 = Crimes_Against_IPC\n",
    "    caipc2 = caipc2[caipc2['AREA_NAME'] == value]\n",
    "    caipc2 = caipc2[caipc2['YEAR'] == yearValue]\n",
    "    caipc2.head()\n",
    "\n",
    "    crimesOptions=[]\n",
    "    numbers=[]\n",
    "    for i in caipc2.columns[2:]:\n",
    "            crimesOptions.append(i)\n",
    "            numbers.append(caipc2.iloc[0][i])\n",
    "        \n",
    "    print(len(crimesOptions)) \n",
    "\n",
    "    cols = ['crimesOptions', 'numbers']\n",
    "    df3 = pd.DataFrame(columns=cols, index=range(29))\n",
    "    for a in range(29):\n",
    "            df3.loc[a].crimesOptions = crimesOptions[a]\n",
    "            df3.loc[a].numbers = numbers[a] \n",
    "    df3\n",
    "\n",
    "    fig3 = px.pie(\n",
    "                data_frame=df3,\n",
    "                values='numbers',\n",
    "                names='crimesOptions',                  \n",
    "                title='Different types of Crimes',   \n",
    "                template='presentation',\n",
    "                width=1600,\n",
    "                height=1600,                            \n",
    "            )  \n",
    "    fig3.update_layout( title_text=\"Different types of Crimes in \"+ value + \" in year \" + yearValue, transition={\"duration\": 500})\n",
    "     \n",
    "    return fig, fig2, fig3\n",
    "\n",
    "app.run_server()\n"
   ]
  }
 ],
 "metadata": {
  "kernelspec": {
   "display_name": "Python 3",
   "language": "python",
   "name": "python3"
  },
  "language_info": {
   "codemirror_mode": {
    "name": "ipython",
    "version": 3
   },
   "file_extension": ".py",
   "mimetype": "text/x-python",
   "name": "python",
   "nbconvert_exporter": "python",
   "pygments_lexer": "ipython3",
   "version": "3.9.0"
  }
 },
 "nbformat": 4,
 "nbformat_minor": 5
}
